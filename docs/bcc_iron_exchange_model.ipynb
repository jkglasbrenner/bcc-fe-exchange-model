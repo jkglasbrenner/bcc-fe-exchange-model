{
 "cells": [
  {
   "cell_type": "markdown",
   "metadata": {},
   "source": [
    "BCC Fe Exchange Model\n",
    "=====================\n",
    "\n",
    "James K. Glasbrenner\n",
    "\n",
    "August 11, 2018"
   ]
  },
  {
   "cell_type": "markdown",
   "metadata": {},
   "source": [
    "## Modules"
   ]
  },
  {
   "cell_type": "markdown",
   "metadata": {},
   "source": [
    "We load the required classes and functions from the pymatgen library for easy manipulation of crystal structures."
   ]
  },
  {
   "cell_type": "code",
   "execution_count": 1,
   "metadata": {},
   "outputs": [],
   "source": [
    "from pymatgen.transformations.standard_transformations import SupercellTransformation"
   ]
  },
  {
   "cell_type": "markdown",
   "metadata": {},
   "source": [
    "We also import convenient functions from the [neighbormodels](https://github.com/jkglasbrenner/datamaterials-neighbormodels) module that were developed for counting neighbors in a periodic crystal system."
   ]
  },
  {
   "cell_type": "code",
   "execution_count": 2,
   "metadata": {},
   "outputs": [],
   "source": [
    "from neighbormodels.structure import from_file\n",
    "from neighbormodels.neighbors import count_neighbors\n",
    "from neighbormodels.interactions import build_model"
   ]
  },
  {
   "cell_type": "markdown",
   "metadata": {},
   "source": [
    "## Crystal structure\n",
    "\n",
    "At room temperature, [iron has the following crystal structure](#kohlhaas1967_ZAngewPhys):\n",
    "\n",
    "<table>\n",
    "  <tr><td>Structure</td><td>Body-centered cubic</td></tr>\n",
    "  <tr><td>Spacegroup</td><td>Im-3m (229)</td></tr>\n",
    "  <tr><td>Lattice constants</td><td>a = 2.8665 Å</td></tr>\n",
    "  <tr>\n",
    "    <td>Basis</td>\n",
    "    <td>Fe: [0.00 0.00 0.00]</td>\n",
    "  </tr>\n",
    "</table>\n",
    "\n",
    "A CIF file with these parmaeters that generates a conventional two-atom unit cell for BCC Fe is [available here](data/fe.cif).\n",
    "We use this file to generate a [pymatgen](http://pymatgen.org/) `Structure` object that will be convenient for building our magnetic exchange model."
   ]
  },
  {
   "cell_type": "code",
   "execution_count": 3,
   "metadata": {},
   "outputs": [],
   "source": [
    "fe_cif_filepath = \"data/fe.cif\"\n",
    "fe_structure_2atom = from_file(structure_file=fe_cif_filepath)"
   ]
  },
  {
   "cell_type": "markdown",
   "metadata": {},
   "source": [
    "A quick printout of `fe_structure` confirms that we have the correct structure:"
   ]
  },
  {
   "cell_type": "code",
   "execution_count": 4,
   "metadata": {},
   "outputs": [
    {
     "name": "stdout",
     "output_type": "stream",
     "text": [
      "Full Formula (Fe2)\n",
      "Reduced Formula: Fe\n",
      "abc   :   2.866500   2.866500   2.866500\n",
      "angles:  90.000000  90.000000  90.000000\n",
      "Sites (2)\n",
      "  #  SP      a    b    c\n",
      "---  ----  ---  ---  ---\n",
      "  0  Fe    0    0    0\n",
      "  1  Fe    0.5  0.5  0.5\n"
     ]
    }
   ],
   "source": [
    "print(fe_structure_2atom)"
   ]
  },
  {
   "cell_type": "markdown",
   "metadata": {},
   "source": [
    "To represent the f-type, a-type, and g-type magnetic patterns, we will need a four-atom cell instead of a two-atom cell.\n",
    "We transform the supercell as follows:"
   ]
  },
  {
   "cell_type": "code",
   "execution_count": 5,
   "metadata": {},
   "outputs": [],
   "source": [
    "rotate_cell_45_degrees = SupercellTransformation(\n",
    "    scaling_matrix=[[1, 1, 0],\n",
    "                    [1, -1, 0],\n",
    "                    [0, 0, 1]],\n",
    ")\n",
    "fe_structure_4atom = rotate_cell_45_degrees.apply_transformation(fe_structure_2atom)"
   ]
  },
  {
   "cell_type": "markdown",
   "metadata": {},
   "source": [
    "As expected, this results in the required 4-atom unit cell:"
   ]
  },
  {
   "cell_type": "code",
   "execution_count": 6,
   "metadata": {},
   "outputs": [
    {
     "name": "stdout",
     "output_type": "stream",
     "text": [
      "Full Formula (Fe4)\n",
      "Reduced Formula: Fe\n",
      "abc   :   4.053843   4.053843   2.866500\n",
      "angles:  90.000000  90.000000  90.000000\n",
      "Sites (4)\n",
      "  #  SP      a    b     c\n",
      "---  ----  ---  ---  ----\n",
      "  0  Fe    0    0     0\n",
      "  1  Fe    0.5  0.5  -0\n",
      "  2  Fe    0.5  0     0.5\n",
      "  3  Fe    1    0.5   0.5\n"
     ]
    }
   ],
   "source": [
    "print(fe_structure_4atom)"
   ]
  },
  {
   "cell_type": "markdown",
   "metadata": {},
   "source": [
    "## Magnetic patterns"
   ]
  },
  {
   "cell_type": "markdown",
   "metadata": {},
   "source": [
    "Defining a magnetic pattern is straightforward and is achieved by assigning a spin direction to each site in a unit cell.\n",
    "We adopt the conventional method for building a classical Ising or Heisenberg model by assuming that all spin amplitudes are equal in magnitude on all sites.\n",
    "This allows us to specify a magnetic pattern by assigning +1 or -1 to each site.\n",
    "This means unit cells with more sites allow you to define more unique magnetic patterns, which is useful if the magnetic energy landscape is complicated such that modeling these energies requires including more terms.\n",
    "For this tutorial, the BCC Fe 4-atom cell will suffice."
   ]
  },
  {
   "cell_type": "code",
   "execution_count": 7,
   "metadata": {},
   "outputs": [],
   "source": [
    "bcc_4atom_magnetic_patterns = {\n",
    "    \"f-type\": [+1, +1, +1, +1],\n",
    "    \"a-type\": [+1, +1, -1, -1],\n",
    "    \"g-type\": [+1, -1, +1, -1],\n",
    "}"
   ]
  },
  {
   "cell_type": "markdown",
   "metadata": {},
   "source": [
    "## Build the model"
   ]
  },
  {
   "cell_type": "code",
   "execution_count": 8,
   "metadata": {},
   "outputs": [],
   "source": [
    "fe_neighbor_data = count_neighbors(cell_structure=fe_structure_4atom, r=3)"
   ]
  },
  {
   "cell_type": "code",
   "execution_count": 9,
   "metadata": {},
   "outputs": [],
   "source": [
    "fe_model = build_model(magnetic_patterns=bcc_4atom_magnetic_patterns, neighbor_data=fe_neighbor_data)"
   ]
  },
  {
   "cell_type": "markdown",
   "metadata": {},
   "source": [
    "## References\n",
    "\n",
    "1. <a id=\"kohlhaas1967_ZAngewPhys\"></a> R. Kohlhaas, P. Donner, and N. Schmitz-Pranghe, Z. Angew. Phys. 23, 245 (1967)"
   ]
  }
 ],
 "metadata": {
  "kernelspec": {
   "display_name": "Python 3",
   "language": "python",
   "name": "python3"
  },
  "language_info": {
   "codemirror_mode": {
    "name": "ipython",
    "version": 3
   },
   "file_extension": ".py",
   "mimetype": "text/x-python",
   "name": "python",
   "nbconvert_exporter": "python",
   "pygments_lexer": "ipython3",
   "version": "3.7.0"
  }
 },
 "nbformat": 4,
 "nbformat_minor": 2
}
