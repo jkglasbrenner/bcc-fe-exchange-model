{
 "cells": [
  {
   "cell_type": "markdown",
   "metadata": {},
   "source": [
    "BCC Fe Exchange Model\n",
    "=====================\n",
    "\n",
    "James K. Glasbrenner\n",
    "\n",
    "August 11, 2018"
   ]
  },
  {
   "cell_type": "markdown",
   "metadata": {},
   "source": [
    "## Modules"
   ]
  },
  {
   "cell_type": "markdown",
   "metadata": {},
   "source": [
    "Import standard library modules:"
   ]
  },
  {
   "cell_type": "code",
   "execution_count": 1,
   "metadata": {},
   "outputs": [],
   "source": [
    "from pathlib import Path\n",
    "from sys import stdout"
   ]
  },
  {
   "cell_type": "markdown",
   "metadata": {},
   "source": [
    "Import external modules:"
   ]
  },
  {
   "cell_type": "code",
   "execution_count": 2,
   "metadata": {},
   "outputs": [],
   "source": [
    "import numpy as np\n",
    "import pandas as pd\n",
    "import statsmodels.formula.api as smf\n",
    "import sympy\n",
    "from scipy.constants import Boltzmann, electron_volt\n",
    "from sympy import symbols\n",
    "from sympy.vector import CoordSys3D\n",
    "from pymatgen import units\n",
    "from pymatgen.transformations.standard_transformations import SupercellTransformation\n",
    "from ruamel.yaml import YAML\n",
    "from sklearn.linear_model import LinearRegression"
   ]
  },
  {
   "cell_type": "markdown",
   "metadata": {},
   "source": [
    "Set options, instantiate classes, and define global constants:"
   ]
  },
  {
   "cell_type": "code",
   "execution_count": 3,
   "metadata": {},
   "outputs": [],
   "source": [
    "pd.set_option(\"display.colheader_justify\", \"left\")\n",
    "pd.set_option(\"display.html.border\", 0)\n",
    "html_table_style = {\"selector\": \"th\", \"props\": [(\"text-align\", \"left\")]}\n",
    "yaml = YAML()\n",
    "\n",
    "kB = 1000 * Boltzmann / electron_volt"
   ]
  },
  {
   "cell_type": "markdown",
   "metadata": {},
   "source": [
    "We also import functions from my own [neighbormodels](https://github.com/jkglasbrenner/datamaterials-neighbormodels) module that I developed for counting neighbors in a periodic crystal system."
   ]
  },
  {
   "cell_type": "code",
   "execution_count": 4,
   "metadata": {},
   "outputs": [],
   "source": [
    "from neighbormodels.structure import from_file\n",
    "from neighbormodels.neighbors import count_neighbors\n",
    "from neighbormodels.interactions import build_model"
   ]
  },
  {
   "cell_type": "markdown",
   "metadata": {},
   "source": [
    "## Theory and background"
   ]
  },
  {
   "cell_type": "markdown",
   "metadata": {},
   "source": [
    "### Magnetic ordering and the exchange interaction [[1](#glasbrenner2013_dissertation)]"
   ]
  },
  {
   "cell_type": "markdown",
   "metadata": {},
   "source": [
    "A handful of elemental materials and a vast number of compounds exhibit phases with magnetic ordering, the spontaneous alignment of spins in the absence of an external magnetic field.\n",
    "There are three general cases of ordering: ferromagnetism, antiferromagnetism, and ferrimagnetism.\n",
    "In ferromagnetic ordering all spins align parallel to one another, resulting in a macroscopic magnetization.\n",
    "In antiferromagnetism the spins are aligned anti-parallel to one another and the net magnetization is zero.\n",
    "Unlike the ferromagnetic case, antiferromagnetic order can be achieved via different topologies of moment ordering.\n",
    "In some systems, such as materials with a triangular Kagome lattice crystal structure, different antiferromagnetic orderings can be degenerate or energetically similar, giving rise to magnetic frustration.\n",
    "In ferrimagnetism, the spins order in some non-ferromagnetic way, but the magnetization is finite.\n",
    "For example, this can occur in compounds with two different magnetic species with different net moments, so even if the magnetic ordering is reminiscent of an antiferromagnet, the different moment magnitudes lead to a net magnetization.\n",
    "\n",
    "The origin of magnetic ordering is the so-called exchange interaction, which refers to the effect of electrostatic interactions competing with the Pauli exclusion principle.\n",
    "There are several kinds of exchange, such as *direct exchange*, *superexchange*, *indirect exchange*, *itinerant exchange*, *double exchange*, and others.\n",
    "Under the right conditions, the exchange interaction leads to an energetic preference for long-range magnetic ordering, with the aforementioned different kinds of exchange often preferring one type of magnetic order over another.\n",
    "Building a general exchange interaction model that is compatible with all of the different kinds of exchange mechanisms and ordering patterns remains an immense theoretical challenge.\n",
    "\n",
    "The classical Heisenberg model is one of the models used to describe magnetic systems, and it works best in systems where the spins are localized.\n",
    "There has also been success in applying this model to materials with moderate levels of itinerancy.\n",
    "For the rest of this tutorial, we will focus on the details of setting up and analyzing the Heisenberg model of magnetic exchange for real material systems."
   ]
  },
  {
   "cell_type": "markdown",
   "metadata": {},
   "source": [
    "### Mean-field approximation to the Heisenberg model"
   ]
  },
  {
   "cell_type": "markdown",
   "metadata": {},
   "source": [
    "The classical Heisenberg model is written as follows,\n",
    "\n",
    "\\begin{equation}\n",
    "  \\text{H} = \\sum_{\\langle{}i,j\\rangle{}} J_{ij} \\mathbf{m}_{i} \\cdot \\mathbf{m}_{j},\n",
    "\\end{equation}\n",
    "\n",
    "where $i$ and $j$ are site indices, $\\mathbf{m}_{i}$ is a classical vector representing the magnetic moment of site $i$, and $J_{ij}$ is the exchange constant for the interaction between sites $i$ and $j$ that parameterizes the spin-flip energy.\n",
    "The range $\\left\\langle{}i,j\\right\\rangle{}$ indicates that the summation is over all possible site pairs in the lattice.\n",
    "\n",
    "There is no known analytic solution to the classical three-dimensional Heisenberg model.\n",
    "Exact numerical results are available using Monte Carlo simulations, which are straightforward to implement but can be computationally expensive.\n",
    "The *mean-field approximation* (MFA) is a well-known and simple method for analyzing the Heisenberg model that has limitations, but is a reasonable starting point.\n",
    "It also provides a method for computing exchange parameters using first-principles calculations by doing the following:\n",
    "\n",
    "1.  Use density functional theory to compute the total energy of various magnetic patterns of a magnetic system.\n",
    "2.  Derive mean-field expressions for the Heisenberg model mapped to the crystal structure of the magnetic system.\n",
    "3.  Choose an interaction cutoff distance beyond which you assume the exchange parmeters are small enough to ignore.\n",
    "    *   Model selection methods can be used to provide more rigor if the appropriate cutoff distance is not obvious.\n",
    "4.  Use regression analysis to fit (train) the mean-field model on the total energy calculations to obtain the exchange parameters.\n",
    "\n",
    "What follows is a step-by-step derivation of the mean-field model of BCC Fe, which we will use to fit to energies computed via density functional theory calculations and obtain the Fe exchange parameters.\n",
    "We will also use the mean-field model to find quick estimates of the Curie temperature based on the fitted exchange parameters.\n",
    "\n",
    "We start by defining the spin fluctuation parameter,\n",
    "\n",
    "\\begin{equation}\n",
    "  \\delta{}\\mathbf{m}_{i} \\equiv \\mathbf{m}_{i} - \\left\\langle{} \\mathbf{m}_{i} \\right\\rangle{},\n",
    "\\end{equation}\n",
    "\n",
    "and using it to rewrite the Hamiltonian:\n",
    "\n",
    "\\begin{equation}\n",
    "  \\text{H} = \\sum_{\\langle{}i,j\\rangle{}} J_{ij} \\left( \\left\\langle{} \\mathbf{m}_{i} \\right\\rangle{} + \\delta{}\\mathbf{m}_{i} \\right) \\cdot{} \\left( \\left\\langle{} \\mathbf{m}_{j} \\right\\rangle{} + \\delta{}\\mathbf{m}_{j} \\right).\n",
    "\\end{equation}\n",
    "\n",
    "We have not made any approximations yet, just transformed the variables.\n",
    "\n",
    "Next, we expand the formula so that we can see all multiplied terms.\n",
    "Let's use the [sympy](https://www.sympy.org) module to help us with the symbolic manipulations, first by declaring our variables,"
   ]
  },
  {
   "cell_type": "code",
   "execution_count": 5,
   "metadata": {},
   "outputs": [],
   "source": [
    "j_ij = symbols(\"J_ij\")\n",
    "delta_m_i = symbols(\"𝛿m_i\")\n",
    "delta_m_j = symbols(\"𝛿m_j\")\n",
    "m_i_avg = symbols(\"<m_i>\")\n",
    "m_j_avg = symbols(\"<m_j>\")\n",
    "m_i = symbols(\"m_i\")\n",
    "m_j = symbols(\"m_j\")"
   ]
  },
  {
   "cell_type": "markdown",
   "metadata": {},
   "source": [
    "which allows us to to write down the formula inside the summation,"
   ]
  },
  {
   "cell_type": "code",
   "execution_count": 6,
   "metadata": {},
   "outputs": [
    {
     "name": "stdout",
     "output_type": "stream",
     "text": [
      "<m_i>*<m_j>*J_ij + <m_i>*J_ij*𝛿m_j + <m_j>*J_ij*𝛿m_i + J_ij*𝛿m_i*𝛿m_j\n"
     ]
    }
   ],
   "source": [
    "hamiltonian = sympy.expand(\n",
    "    e = j_ij * (m_i_avg + delta_m_i) * (m_j_avg + delta_m_j)\n",
    ")\n",
    "print(hamiltonian)"
   ]
  },
  {
   "cell_type": "markdown",
   "metadata": {},
   "source": [
    "**We now apply the mean-field approximation** by dropping spin-fluctuation terms of order $O\\left(\\delta{}m^{2}\\right)$ and higher."
   ]
  },
  {
   "cell_type": "code",
   "execution_count": 7,
   "metadata": {},
   "outputs": [
    {
     "name": "stdout",
     "output_type": "stream",
     "text": [
      "J_ij*(<m_i>*<m_j> + <m_i>*𝛿m_j + <m_j>*𝛿m_i)\n"
     ]
    }
   ],
   "source": [
    "hamiltonian_mfa = sympy.simplify(hamiltonian.subs(delta_m_i * delta_m_j, 0))\n",
    "print(hamiltonian_mfa)"
   ]
  },
  {
   "cell_type": "markdown",
   "metadata": {},
   "source": [
    "The mean-field Hamiltonian is,\n",
    "\n",
    "\\begin{equation}\n",
    "  \\text{H}_{\\text{mf}} \\approx \\sum_{\\langle{}i,j\\rangle{}} J_{ij} \\left( \\left\\langle{} \\mathbf{m}_{i} \\right\\rangle{} \\cdot{} \\left\\langle{} \\mathbf{m}_{j} \\right\\rangle{} + \\left\\langle{} \\mathbf{m}_{i} \\right\\rangle{} \\cdot{} \\delta{}\\mathbf{m}_{j} + \\left\\langle{} \\mathbf{m}_{j} \\right\\rangle{} \\cdot{} \\delta{}\\mathbf{m}_{i} \\right)\n",
    "\\end{equation}\n",
    "\n",
    "The first term is just a constant shift of the energy, which we can remove by redefining the baseline energy for the Hamiltonian.\n",
    "\n",
    "\\begin{equation}\n",
    "  \\text{H}' \\equiv \\text{H}_{\\text{mf}} + \\left(\\sum_{\\langle{}i,j\\rangle{}} J_{ij} \\left\\langle{} \\mathbf{m}_{i} \\right\\rangle{} \\cdot{} \\left\\langle{} \\mathbf{m}_{j} \\right\\rangle{} \\right)\n",
    "\\end{equation}\n",
    "\n",
    "For the other two terms, we take the definition for $\\delta{}\\mathbf{m}_{i}$ and substitute it back into our expression,"
   ]
  },
  {
   "cell_type": "code",
   "execution_count": 8,
   "metadata": {},
   "outputs": [
    {
     "name": "stdout",
     "output_type": "stream",
     "text": [
      "<m_i>*J_ij*m_j + <m_j>*J_ij*m_i\n"
     ]
    }
   ],
   "source": [
    "print(sympy.expand(hamiltonian_mfa.subs(\n",
    "    [(delta_m_i, m_i - m_i_avg),\n",
    "     (delta_m_j, m_j - m_j_avg)]\n",
    ")) + j_ij * m_i_avg * m_j_avg)"
   ]
  },
  {
   "cell_type": "markdown",
   "metadata": {},
   "source": [
    "Our Hamiltonian now reads,\n",
    "\n",
    "\\begin{equation}\n",
    "  \\text{H}' = \\sum_{\\langle{}i,j\\rangle{}} J_{ij} \\left( \\left\\langle{} \\mathbf{m}_{i} \\right\\rangle{} \\cdot{} \\mathbf{m}_{j} + \\left\\langle{} \\mathbf{m}_{j} \\right\\rangle{} \\cdot{} \\mathbf{m}_{i} \\right)\n",
    "\\end{equation}\n",
    "\n",
    "Since the site indices $i$ and $j$ are \"dummy\" indices and the above dot products are commutative, we can add together the terms to further simplify the expression,\n",
    "\n",
    "\\begin{equation}\n",
    "  \\text{H}' = 2 \\sum_{\\langle{}i,j\\rangle{}} J_{ij} \\left\\langle{} \\mathbf{m}_{j} \\right\\rangle{} \\cdot{} \\mathbf{m}_{i}\n",
    "\\end{equation}\n",
    "\n",
    "This form of the mean-field Hamiltonian is compact, but not the most convenient form for being able to write down models that map magnetic patterns to total energies computed using first-principles calculations.\n",
    "To get our expression into a more convenient form, we transform the summation over site pairs as follows,\n",
    "\n",
    "\\begin{equation}\n",
    "  \\sum_{\\langle{}i,j\\rangle{}} \\to \\frac{1}{2 N_{\\alpha{}}} \\sum_{i} \\sum_{\\text{n}} \\sum_{\\alpha{} \\leq \\beta{}}\n",
    "\\end{equation}\n",
    "\n",
    "The above transformation redefines how we label the site pairs, introducing the sublattices $\\alpha{}$ and $\\beta{}$ and the neighbor index $n$.\n",
    "The factor of $\\frac{1}{2}$ accounts for double-counting of pairwise bonds and the factor $\\frac{1}{N_{\\alpha{}}}$ normalizes the summation with respect to the total number of sublattices $N_{\\alpha{}}$.\n",
    "This transforms our mean-field Hamiltonian as follows,\n",
    "\n",
    "\\begin{equation}\n",
    "  \\text{H}' = \\frac{1}{N_{\\alpha}} \\sum_{i} \\sum_{n} \\sum_{\\alpha{} \\leq \\beta{}} z_{n}^{\\alpha{}\\beta{}} J_{n}^{\\alpha{}\\beta{}} \\left\\langle{} \\mathbf{m}^{\\beta{}} \\right\\rangle{} \\cdot{} \\mathbf{m}_{i}^{\\alpha{}}\n",
    "\\end{equation}\n",
    "\n",
    "For convenience, we can rewrite the summation over $\\alpha{} \\leq \\beta{}$ into $\\alpha = \\beta$ and $\\alpha \\neq \\beta$ terms,\n",
    "\n",
    "\\begin{equation}\n",
    "  \\text{H}' = \\sum_{i} \\left( \\frac{1}{N_{\\alpha}} \\sum_{\\alpha{}} \\sum_{n} z_{n}^{\\alpha{}} J_{n}^{\\alpha{}} \\left\\langle{} \\mathbf{m}^{\\alpha{}} \\right\\rangle{} \\cdot{} \\mathbf{m}_{i}^{\\alpha{}} + \\frac{1}{N_{\\alpha{}}} \\sum_{\\alpha{},\\beta{}\\in{}\\alpha{}\\neq{}\\beta{}} \\sum_{n} z_{n}^{\\alpha{}\\beta{}} J_{n}^{\\alpha{}\\beta{}} \\left\\langle{} \\mathbf{m}^{\\beta{}} \\right\\rangle{} \\cdot{} \\mathbf{m}_{i}^{\\alpha{}} \\right)\n",
    "\\end{equation}"
   ]
  },
  {
   "cell_type": "markdown",
   "metadata": {},
   "source": [
    "### Sublattices"
   ]
  },
  {
   "cell_type": "markdown",
   "metadata": {},
   "source": [
    "The sublattice concept may be familiar if you've worked with alloys, but even if you haven't, it's straightforward to understand.\n",
    "For a magnetic system, a complete set of sublattices must\n",
    "\n",
    "1.  Define a unit cell (lattice with a basis) compatible with the full periodic crystal structure\n",
    "2.  Have all spins aligned in parallel within each sublattice."
   ]
  },
  {
   "cell_type": "markdown",
   "metadata": {},
   "source": [
    "### Finite temperature behavior of mean-field Heisenberg model"
   ]
  },
  {
   "cell_type": "markdown",
   "metadata": {},
   "source": []
  },
  {
   "cell_type": "markdown",
   "metadata": {},
   "source": [
    "## Calculating exchange parameters of BCC Fe"
   ]
  },
  {
   "cell_type": "markdown",
   "metadata": {},
   "source": [
    "### Crystal structure"
   ]
  },
  {
   "cell_type": "markdown",
   "metadata": {},
   "source": [
    "At room temperature, [iron has the following crystal structure](#kohlhaas1967_ZAngewPhys):\n",
    "\n",
    "<table>\n",
    "  <tr><td>Structure</td><td>Body-centered cubic</td></tr>\n",
    "  <tr><td>Spacegroup</td><td>Im-3m (229)</td></tr>\n",
    "  <tr><td>Lattice constants</td><td>a = 2.8665 Å</td></tr>\n",
    "  <tr>\n",
    "    <td>Basis</td>\n",
    "    <td>Fe: [0.00 0.00 0.00]</td>\n",
    "  </tr>\n",
    "</table>\n",
    "\n",
    "A CIF file with these parmaeters that generates a conventional two-atom unit cell for BCC Fe is [available here](data/fe.cif).\n",
    "We use this file to generate a [pymatgen](http://pymatgen.org/) `Structure` object that will be convenient for building our magnetic exchange model."
   ]
  },
  {
   "cell_type": "code",
   "execution_count": 9,
   "metadata": {},
   "outputs": [],
   "source": [
    "fe_cif_filepath = \"data/fe.cif\"\n",
    "fe_structure_2atom = from_file(structure_file=fe_cif_filepath)"
   ]
  },
  {
   "cell_type": "markdown",
   "metadata": {},
   "source": [
    "A quick printout of `fe_structure` confirms that we have the correct structure:"
   ]
  },
  {
   "cell_type": "code",
   "execution_count": 10,
   "metadata": {},
   "outputs": [
    {
     "name": "stdout",
     "output_type": "stream",
     "text": [
      "Full Formula (Fe2)\n",
      "Reduced Formula: Fe\n",
      "abc   :   2.866500   2.866500   2.866500\n",
      "angles:  90.000000  90.000000  90.000000\n",
      "Sites (2)\n",
      "  #  SP      a    b    c\n",
      "---  ----  ---  ---  ---\n",
      "  0  Fe    0    0    0\n",
      "  1  Fe    0.5  0.5  0.5\n"
     ]
    }
   ],
   "source": [
    "print(fe_structure_2atom)"
   ]
  },
  {
   "cell_type": "markdown",
   "metadata": {},
   "source": [
    "To represent the f-type, a-type, and g-type magnetic patterns, we will need a four-atom cell instead of a two-atom cell.\n",
    "We transform the supercell as follows:"
   ]
  },
  {
   "cell_type": "code",
   "execution_count": 11,
   "metadata": {},
   "outputs": [],
   "source": [
    "rotate_cell_45_degrees = SupercellTransformation(\n",
    "    scaling_matrix=[[1, 1, 0],\n",
    "                    [1, -1, 0],\n",
    "                    [0, 0, 1]],\n",
    ")\n",
    "fe_structure_4atom = rotate_cell_45_degrees.apply_transformation(fe_structure_2atom)"
   ]
  },
  {
   "cell_type": "markdown",
   "metadata": {},
   "source": [
    "As expected, this results in the required 4-atom unit cell:"
   ]
  },
  {
   "cell_type": "code",
   "execution_count": 12,
   "metadata": {},
   "outputs": [
    {
     "name": "stdout",
     "output_type": "stream",
     "text": [
      "Full Formula (Fe4)\n",
      "Reduced Formula: Fe\n",
      "abc   :   4.053843   4.053843   2.866500\n",
      "angles:  90.000000  90.000000  90.000000\n",
      "Sites (4)\n",
      "  #  SP      a    b     c\n",
      "---  ----  ---  ---  ----\n",
      "  0  Fe    0    0     0\n",
      "  1  Fe    0.5  0.5  -0\n",
      "  2  Fe    0.5  0     0.5\n",
      "  3  Fe    1    0.5   0.5\n"
     ]
    }
   ],
   "source": [
    "print(fe_structure_4atom)"
   ]
  },
  {
   "cell_type": "markdown",
   "metadata": {},
   "source": [
    "### Mapping magnetic patterns onto sublattices"
   ]
  },
  {
   "cell_type": "markdown",
   "metadata": {},
   "source": [
    "Defining a magnetic pattern is straightforward and is achieved by assigning a spin direction to each site in a unit cell.\n",
    "We adopt the conventional method for building a classical Ising or Heisenberg model by assuming that all spin amplitudes are equal in magnitude on all sites.\n",
    "This allows us to specify a magnetic pattern by assigning +1 or -1 to each site.\n",
    "This means unit cells with more sites allow you to define more unique magnetic patterns, which is useful if the magnetic energy landscape is complicated such that modeling these energies requires including more terms.\n",
    "For this tutorial, the BCC Fe 4-atom cell will suffice."
   ]
  },
  {
   "cell_type": "code",
   "execution_count": 13,
   "metadata": {},
   "outputs": [],
   "source": [
    "fe_magnetic_patterns = yaml.load(Path(\"data/fe_magnetic_patterns.yml\"))"
   ]
  },
  {
   "cell_type": "code",
   "execution_count": 14,
   "metadata": {},
   "outputs": [
    {
     "data": {
      "text/html": [
       "<style  type=\"text/css\" >\n",
       "    #T_f7d255ec_9eb5_11e8_b855_7d037a3c4fba  {\n",
       "    }    #T_f7d255ec_9eb5_11e8_b855_7d037a3c4fba  {\n",
       "    }</style>  \n",
       "<table id=\"T_f7d255ec_9eb5_11e8_b855_7d037a3c4fba\" > \n",
       "<thead>    <tr> \n",
       "        <th class=\"col_heading level0 col0\" >nm</th> \n",
       "        <th class=\"col_heading level0 col1\" >f-type</th> \n",
       "        <th class=\"col_heading level0 col2\" >a-type</th> \n",
       "        <th class=\"col_heading level0 col3\" >g-type</th> \n",
       "    </tr></thead> \n",
       "<tbody>    <tr> \n",
       "        <td id=\"T_f7d255ec_9eb5_11e8_b855_7d037a3c4fbarow0_col0\" class=\"data row0 col0\" >0</td> \n",
       "        <td id=\"T_f7d255ec_9eb5_11e8_b855_7d037a3c4fbarow0_col1\" class=\"data row0 col1\" >1</td> \n",
       "        <td id=\"T_f7d255ec_9eb5_11e8_b855_7d037a3c4fbarow0_col2\" class=\"data row0 col2\" >1</td> \n",
       "        <td id=\"T_f7d255ec_9eb5_11e8_b855_7d037a3c4fbarow0_col3\" class=\"data row0 col3\" >1</td> \n",
       "    </tr>    <tr> \n",
       "        <td id=\"T_f7d255ec_9eb5_11e8_b855_7d037a3c4fbarow1_col0\" class=\"data row1 col0\" >0</td> \n",
       "        <td id=\"T_f7d255ec_9eb5_11e8_b855_7d037a3c4fbarow1_col1\" class=\"data row1 col1\" >1</td> \n",
       "        <td id=\"T_f7d255ec_9eb5_11e8_b855_7d037a3c4fbarow1_col2\" class=\"data row1 col2\" >1</td> \n",
       "        <td id=\"T_f7d255ec_9eb5_11e8_b855_7d037a3c4fbarow1_col3\" class=\"data row1 col3\" >-1</td> \n",
       "    </tr>    <tr> \n",
       "        <td id=\"T_f7d255ec_9eb5_11e8_b855_7d037a3c4fbarow2_col0\" class=\"data row2 col0\" >0</td> \n",
       "        <td id=\"T_f7d255ec_9eb5_11e8_b855_7d037a3c4fbarow2_col1\" class=\"data row2 col1\" >1</td> \n",
       "        <td id=\"T_f7d255ec_9eb5_11e8_b855_7d037a3c4fbarow2_col2\" class=\"data row2 col2\" >-1</td> \n",
       "        <td id=\"T_f7d255ec_9eb5_11e8_b855_7d037a3c4fbarow2_col3\" class=\"data row2 col3\" >1</td> \n",
       "    </tr>    <tr> \n",
       "        <td id=\"T_f7d255ec_9eb5_11e8_b855_7d037a3c4fbarow3_col0\" class=\"data row3 col0\" >0</td> \n",
       "        <td id=\"T_f7d255ec_9eb5_11e8_b855_7d037a3c4fbarow3_col1\" class=\"data row3 col1\" >1</td> \n",
       "        <td id=\"T_f7d255ec_9eb5_11e8_b855_7d037a3c4fbarow3_col2\" class=\"data row3 col2\" >-1</td> \n",
       "        <td id=\"T_f7d255ec_9eb5_11e8_b855_7d037a3c4fbarow3_col3\" class=\"data row3 col3\" >-1</td> \n",
       "    </tr></tbody> \n",
       "</table> "
      ],
      "text/plain": [
       "<pandas.io.formats.style.Styler at 0x7f2303a6de10>"
      ]
     },
     "execution_count": 14,
     "metadata": {},
     "output_type": "execute_result"
    }
   ],
   "source": [
    "pd.DataFrame(fe_magnetic_patterns[\"4atoms\"]).style \\\n",
    "    .set_table_styles(html_table_style) \\\n",
    "    .hide_index()"
   ]
  },
  {
   "cell_type": "markdown",
   "metadata": {},
   "source": [
    "### Counting neighbors and summing over sublattices"
   ]
  },
  {
   "cell_type": "code",
   "execution_count": 15,
   "metadata": {},
   "outputs": [],
   "source": [
    "fe_neighbor_data = count_neighbors(cell_structure=fe_structure_4atom, r=3)"
   ]
  },
  {
   "cell_type": "code",
   "execution_count": 16,
   "metadata": {},
   "outputs": [],
   "source": [
    "fe_exchange_model = build_model(magnetic_patterns=fe_magnetic_patterns[\"4atoms\"], neighbor_data=fe_neighbor_data)"
   ]
  },
  {
   "cell_type": "markdown",
   "metadata": {},
   "source": [
    "### Building the model matrix"
   ]
  },
  {
   "cell_type": "code",
   "execution_count": 17,
   "metadata": {},
   "outputs": [],
   "source": [
    "fe_dft_energies = pd.read_csv(filepath_or_buffer=\"data/fe_magnetic_energies.csv\") "
   ]
  },
  {
   "cell_type": "code",
   "execution_count": 18,
   "metadata": {},
   "outputs": [],
   "source": [
    "fe_model_matrix = fe_dft_energies \\\n",
    "    .assign(energy = lambda x:\n",
    "        (x[\"total_energy\"] -\n",
    "         np.float64(x.query(\"pattern == 'nm'\").loc[:, \"total_energy\"])) *\n",
    "        1000 * units.Ha_to_eV / x[\"num_sites\"]) \\\n",
    "    .merge(fe_exchange_model, on=[\"pattern\"]) \\\n",
    "    .query(\"pattern != 'nm'\") \\\n",
    "    .assign(J1 = lambda x: x[\"J1\"]) \\\n",
    "    .assign(J2 = lambda x: x[\"J2\"]) \\\n",
    "    .loc[:, [\"pattern\", \"energy\", \"J1\", \"J2\"]]"
   ]
  },
  {
   "cell_type": "code",
   "execution_count": 19,
   "metadata": {},
   "outputs": [
    {
     "data": {
      "text/html": [
       "<style  type=\"text/css\" >\n",
       "    #T_f7e49798_9eb5_11e8_b855_7d037a3c4fba  {\n",
       "    }    #T_f7e49798_9eb5_11e8_b855_7d037a3c4fba  {\n",
       "    }</style>  \n",
       "<table id=\"T_f7e49798_9eb5_11e8_b855_7d037a3c4fba\" > \n",
       "<thead>    <tr> \n",
       "        <th class=\"col_heading level0 col0\" >pattern</th> \n",
       "        <th class=\"col_heading level0 col1\" >energy</th> \n",
       "        <th class=\"col_heading level0 col2\" >J1</th> \n",
       "        <th class=\"col_heading level0 col3\" >J2</th> \n",
       "    </tr></thead> \n",
       "<tbody>    <tr> \n",
       "        <td id=\"T_f7e49798_9eb5_11e8_b855_7d037a3c4fbarow0_col0\" class=\"data row0 col0\" >f-type</td> \n",
       "        <td id=\"T_f7e49798_9eb5_11e8_b855_7d037a3c4fbarow0_col1\" class=\"data row0 col1\" >-599.892</td> \n",
       "        <td id=\"T_f7e49798_9eb5_11e8_b855_7d037a3c4fbarow0_col2\" class=\"data row0 col2\" >8</td> \n",
       "        <td id=\"T_f7e49798_9eb5_11e8_b855_7d037a3c4fbarow0_col3\" class=\"data row0 col3\" >6</td> \n",
       "    </tr>    <tr> \n",
       "        <td id=\"T_f7e49798_9eb5_11e8_b855_7d037a3c4fbarow1_col0\" class=\"data row1 col0\" >a-type</td> \n",
       "        <td id=\"T_f7e49798_9eb5_11e8_b855_7d037a3c4fbarow1_col1\" class=\"data row1 col1\" >-133.324</td> \n",
       "        <td id=\"T_f7e49798_9eb5_11e8_b855_7d037a3c4fbarow1_col2\" class=\"data row1 col2\" >-8</td> \n",
       "        <td id=\"T_f7e49798_9eb5_11e8_b855_7d037a3c4fbarow1_col3\" class=\"data row1 col3\" >6</td> \n",
       "    </tr>    <tr> \n",
       "        <td id=\"T_f7e49798_9eb5_11e8_b855_7d037a3c4fbarow2_col0\" class=\"data row2 col0\" >g-type</td> \n",
       "        <td id=\"T_f7e49798_9eb5_11e8_b855_7d037a3c4fbarow2_col1\" class=\"data row2 col1\" >-375.406</td> \n",
       "        <td id=\"T_f7e49798_9eb5_11e8_b855_7d037a3c4fbarow2_col2\" class=\"data row2 col2\" >0</td> \n",
       "        <td id=\"T_f7e49798_9eb5_11e8_b855_7d037a3c4fbarow2_col3\" class=\"data row2 col3\" >-2</td> \n",
       "    </tr></tbody> \n",
       "</table> "
      ],
      "text/plain": [
       "<pandas.io.formats.style.Styler at 0x7f2303a4a9e8>"
      ]
     },
     "execution_count": 19,
     "metadata": {},
     "output_type": "execute_result"
    }
   ],
   "source": [
    "fe_model_matrix.style.set_table_styles(html_table_style).hide_index()"
   ]
  },
  {
   "cell_type": "markdown",
   "metadata": {},
   "source": [
    "### Fitting the exchange parameters using the statsmodels module"
   ]
  },
  {
   "cell_type": "code",
   "execution_count": 20,
   "metadata": {},
   "outputs": [],
   "source": [
    "smf_exchange_fit = smf.ols(data=fe_model_matrix, formula=\"energy ~ J1 + J2\").fit()"
   ]
  },
  {
   "cell_type": "code",
   "execution_count": 21,
   "metadata": {},
   "outputs": [],
   "source": [
    "smf_exchange_parameters = pd.DataFrame(smf_exchange_fit.params, columns=[\"statsmodels\"])"
   ]
  },
  {
   "cell_type": "markdown",
   "metadata": {},
   "source": [
    "### Fitting the exchange parameters using the scikit-learn module"
   ]
  },
  {
   "cell_type": "code",
   "execution_count": 22,
   "metadata": {},
   "outputs": [],
   "source": [
    "lm = LinearRegression()\n",
    "lm_exchange_fit = lm.fit(X=fe_model_matrix[[\"J1\", \"J2\"]], y=fe_model_matrix[\"energy\"])"
   ]
  },
  {
   "cell_type": "code",
   "execution_count": 23,
   "metadata": {},
   "outputs": [],
   "source": [
    "lm_exchange_parameters = pd.DataFrame({\n",
    "    \"sklearn\": [lm_exchange_fit.intercept_, lm_exchange_fit.coef_[0], lm_exchange_fit.coef_[1]]},\n",
    "    index=[\"Intercept\", \"J1\", \"J2\"],\n",
    ")"
   ]
  },
  {
   "cell_type": "markdown",
   "metadata": {},
   "source": [
    "### Parameter summary for both methods"
   ]
  },
  {
   "cell_type": "code",
   "execution_count": 24,
   "metadata": {},
   "outputs": [
    {
     "data": {
      "text/html": [
       "<style  type=\"text/css\" >\n",
       "    #T_f7edd178_9eb5_11e8_b855_7d037a3c4fba  {\n",
       "    }    #T_f7edd178_9eb5_11e8_b855_7d037a3c4fba  {\n",
       "    }</style>  \n",
       "<table id=\"T_f7edd178_9eb5_11e8_b855_7d037a3c4fba\" > \n",
       "<thead>    <tr> \n",
       "        <th class=\"col_heading level0 col0\" >parameter</th> \n",
       "        <th class=\"col_heading level0 col1\" >statsmodels</th> \n",
       "        <th class=\"col_heading level0 col2\" >sklearn</th> \n",
       "    </tr></thead> \n",
       "<tbody>    <tr> \n",
       "        <td id=\"T_f7edd178_9eb5_11e8_b855_7d037a3c4fbarow0_col0\" class=\"data row0 col0\" >Intercept</td> \n",
       "        <td id=\"T_f7edd178_9eb5_11e8_b855_7d037a3c4fbarow0_col1\" class=\"data row0 col1\" >-373.206</td> \n",
       "        <td id=\"T_f7edd178_9eb5_11e8_b855_7d037a3c4fbarow0_col2\" class=\"data row0 col2\" >-373.206</td> \n",
       "    </tr>    <tr> \n",
       "        <td id=\"T_f7edd178_9eb5_11e8_b855_7d037a3c4fbarow1_col0\" class=\"data row1 col0\" >J1</td> \n",
       "        <td id=\"T_f7edd178_9eb5_11e8_b855_7d037a3c4fbarow1_col1\" class=\"data row1 col1\" >-29.1605</td> \n",
       "        <td id=\"T_f7edd178_9eb5_11e8_b855_7d037a3c4fbarow1_col2\" class=\"data row1 col2\" >-29.1605</td> \n",
       "    </tr>    <tr> \n",
       "        <td id=\"T_f7edd178_9eb5_11e8_b855_7d037a3c4fbarow2_col0\" class=\"data row2 col0\" >J2</td> \n",
       "        <td id=\"T_f7edd178_9eb5_11e8_b855_7d037a3c4fbarow2_col1\" class=\"data row2 col1\" >1.09971</td> \n",
       "        <td id=\"T_f7edd178_9eb5_11e8_b855_7d037a3c4fbarow2_col2\" class=\"data row2 col2\" >1.09971</td> \n",
       "    </tr></tbody> \n",
       "</table> "
      ],
      "text/plain": [
       "<pandas.io.formats.style.Styler at 0x7f2300c450f0>"
      ]
     },
     "execution_count": 24,
     "metadata": {},
     "output_type": "execute_result"
    }
   ],
   "source": [
    "smf_exchange_parameters \\\n",
    "    .join(lm_exchange_parameters) \\\n",
    "    .reset_index() \\\n",
    "    .rename({\"index\": \"parameter\"}, axis=1) \\\n",
    "    .style.set_table_styles(html_table_style) \\\n",
    "    .hide_index()"
   ]
  },
  {
   "cell_type": "markdown",
   "metadata": {},
   "source": [
    "## References\n",
    "\n",
    "1. Adapted from <a id=\"glasbrenner2013_dissertation\"></a> [J. K. Glasbrenner, *Ab-initio and model studies of spin fluctuation effects in transport and thermodynamics of magnetic metals*, Ph.D. dissertation, University of Nebraska (2013)](http://digitalcommons.unl.edu/physicsdiss/23/).\n",
    "1. <a id=\"kohlhaas1967_ZAngewPhys\"></a> R. Kohlhaas, P. Donner, and N. Schmitz-Pranghe, Z. Angew. Phys. 23, 245 (1967)"
   ]
  }
 ],
 "metadata": {
  "kernelspec": {
   "display_name": "Python 3",
   "language": "python",
   "name": "python3"
  },
  "language_info": {
   "codemirror_mode": {
    "name": "ipython",
    "version": 3
   },
   "file_extension": ".py",
   "mimetype": "text/x-python",
   "name": "python",
   "nbconvert_exporter": "python",
   "pygments_lexer": "ipython3",
   "version": "3.7.0"
  }
 },
 "nbformat": 4,
 "nbformat_minor": 2
}
